{
  "nbformat": 4,
  "nbformat_minor": 0,
  "metadata": {
    "colab": {
      "name": "bengali_name_classifier.ipynb",
      "version": "0.3.2",
      "provenance": [],
      "collapsed_sections": []
    },
    "kernelspec": {
      "name": "python3",
      "display_name": "Python 3"
    },
    "accelerator": "GPU"
  },
  "cells": [
    {
      "metadata": {
        "id": "LjrmAMr2KEsp",
        "colab_type": "code",
        "colab": {}
      },
      "cell_type": "code",
      "source": [
        "#*********\n",
        "# Author: Sheikh Hanif\n",
        "#********\n",
        "\n",
        "# importing necessary modules\n",
        "import pandas as pd\n",
        "from requests import get\n",
        "from bs4 import BeautifulSoup\n",
        "import re\n",
        "import string\n",
        "import nltk\n",
        "import random"
      ],
      "execution_count": 0,
      "outputs": []
    },
    {
      "metadata": {
        "id": "_gn1oZyFLJXr",
        "colab_type": "code",
        "colab": {}
      },
      "cell_type": "code",
      "source": [
        "# mounting google drive\n",
        "from google.colab import drive\n",
        "drive.mount('/content/drive')"
      ],
      "execution_count": 0,
      "outputs": []
    },
    {
      "metadata": {
        "id": "EcZiapq-KV1M",
        "colab_type": "code",
        "colab": {}
      },
      "cell_type": "code",
      "source": [
        "def get_names():\n",
        "    \"\"\"\n",
        "    This function will scrape names from the website\n",
        "    \"\"\"\n",
        "    # set to store male and female names. we are using set because we don't want duplicate entry\n",
        "    male = set()\n",
        "    female = set()\n",
        "    \n",
        "    # url for male and female\n",
        "    murl = \"https://www.babynamesdirect.com/baby-names/bengali/boy/\"\n",
        "    furl = \"https://www.babynamesdirect.com/baby-names/bengali/girl/\"\n",
        "    \n",
        "    # lowercase letter and a string with all numbers we need to loop through according to the \n",
        "    # website pattern. \n",
        "    lc = string.ascii_lowercase\n",
        "    num = '123456789'\n",
        "    \n",
        "    # here we are constructing urls based on the format provided in the website. for \n",
        "    # each pattern (page) we get names and save to our set. we loop through all possible \n",
        "    # pattern (pages)\n",
        "    \n",
        "    # first we will extract male names. here we use beautiful soup to extract information we want. \n",
        "    for c in lc:\n",
        "        for n in num:\n",
        "            url = murl + c + '/' + n\n",
        "            response = get(url)\n",
        "\n",
        "            html_soup = BeautifulSoup(response.text, 'html.parser')\n",
        "            con_name = html_soup.find_all('li', class_='ntr')\n",
        "\n",
        "            for names in con_name:\n",
        "                name = names.a\n",
        "                if name:\n",
        "                    male.add(name.text)\n",
        "                    \n",
        "                    \n",
        "    # Now we will extract female names. here we use beautiful soup as well to extract information we want. \n",
        "    for c in lc:\n",
        "        for n in num:\n",
        "            url = furl + c + '/' + n\n",
        "            response = get(url)\n",
        "\n",
        "            html_soup = BeautifulSoup(response.text, 'html.parser')\n",
        "            con_name = html_soup.find_all('li', class_='ntr')\n",
        "\n",
        "            for names in con_name:\n",
        "                name = names.a\n",
        "                if name:\n",
        "                    female.add(name.text)\n",
        "\n",
        "    return male, female"
      ],
      "execution_count": 0,
      "outputs": []
    },
    {
      "metadata": {
        "colab_type": "code",
        "id": "TgtFrcjpZ2bj",
        "colab": {}
      },
      "cell_type": "code",
      "source": [
        "def create_df():\n",
        "    \n",
        "    # getting names by calling the function\n",
        "    male_names, female_names = get_names()\n",
        "\n",
        "    # converting our set object into list as it will make easy for us to work with pandas dataframe.\n",
        "    males = list(male_names)\n",
        "    females = list(female_names)\n",
        "    \n",
        "    male_df = pd.DataFrame({\n",
        "        'male': males,  \n",
        "    })\n",
        "    \n",
        "    # male_df.head()\n",
        "    \n",
        "    female_df = pd.DataFrame({\n",
        "        'female': females\n",
        "    })\n",
        "    \n",
        "    # female_df.head()\n",
        "    \n",
        "    # let's save the dataframe in local machine. We don't want \n",
        "    # to request for data from the website again and again. It's not fair\n",
        "    male_df.to_csv('/content/drive/My Drive/Colab Notebooks/Bengali_Names/bengali_names_male.csv')\n",
        "    female_df.to_csv('/content/drive/My Drive/Colab Notebooks/Bengali_Names/bengali_names_female.csv')\n",
        "\n",
        "    return male_df, female_df\n",
        "  \n",
        "  \n",
        "  \n",
        "create_df()"
      ],
      "execution_count": 0,
      "outputs": []
    },
    {
      "metadata": {
        "id": "f5xrlaCGOmSv",
        "colab_type": "code",
        "colab": {}
      },
      "cell_type": "code",
      "source": [
        "male = pd.read_csv('/content/drive/My Drive/Colab Notebooks/Bengali_Names/bengali_names_male.csv')"
      ],
      "execution_count": 0,
      "outputs": []
    },
    {
      "metadata": {
        "id": "i-t31Oa3_V5M",
        "colab_type": "code",
        "outputId": "05620560-d427-4c78-b52a-5b0624d34aca",
        "colab": {
          "base_uri": "https://localhost:8080/",
          "height": 297
        }
      },
      "cell_type": "code",
      "source": [
        "male.describe()"
      ],
      "execution_count": 0,
      "outputs": [
        {
          "output_type": "execute_result",
          "data": {
            "text/html": [
              "<div>\n",
              "<style scoped>\n",
              "    .dataframe tbody tr th:only-of-type {\n",
              "        vertical-align: middle;\n",
              "    }\n",
              "\n",
              "    .dataframe tbody tr th {\n",
              "        vertical-align: top;\n",
              "    }\n",
              "\n",
              "    .dataframe thead th {\n",
              "        text-align: right;\n",
              "    }\n",
              "</style>\n",
              "<table border=\"1\" class=\"dataframe\">\n",
              "  <thead>\n",
              "    <tr style=\"text-align: right;\">\n",
              "      <th></th>\n",
              "      <th>Unnamed: 0</th>\n",
              "    </tr>\n",
              "  </thead>\n",
              "  <tbody>\n",
              "    <tr>\n",
              "      <th>count</th>\n",
              "      <td>6093.000000</td>\n",
              "    </tr>\n",
              "    <tr>\n",
              "      <th>mean</th>\n",
              "      <td>3046.000000</td>\n",
              "    </tr>\n",
              "    <tr>\n",
              "      <th>std</th>\n",
              "      <td>1759.041927</td>\n",
              "    </tr>\n",
              "    <tr>\n",
              "      <th>min</th>\n",
              "      <td>0.000000</td>\n",
              "    </tr>\n",
              "    <tr>\n",
              "      <th>25%</th>\n",
              "      <td>1523.000000</td>\n",
              "    </tr>\n",
              "    <tr>\n",
              "      <th>50%</th>\n",
              "      <td>3046.000000</td>\n",
              "    </tr>\n",
              "    <tr>\n",
              "      <th>75%</th>\n",
              "      <td>4569.000000</td>\n",
              "    </tr>\n",
              "    <tr>\n",
              "      <th>max</th>\n",
              "      <td>6092.000000</td>\n",
              "    </tr>\n",
              "  </tbody>\n",
              "</table>\n",
              "</div>"
            ],
            "text/plain": [
              "        Unnamed: 0\n",
              "count  6093.000000\n",
              "mean   3046.000000\n",
              "std    1759.041927\n",
              "min       0.000000\n",
              "25%    1523.000000\n",
              "50%    3046.000000\n",
              "75%    4569.000000\n",
              "max    6092.000000"
            ]
          },
          "metadata": {
            "tags": []
          },
          "execution_count": 7
        }
      ]
    },
    {
      "metadata": {
        "id": "lLOb25fX_rDr",
        "colab_type": "code",
        "outputId": "0c64d48c-44f3-426a-9aac-07796453158c",
        "colab": {
          "base_uri": "https://localhost:8080/",
          "height": 297
        }
      },
      "cell_type": "code",
      "source": [
        "female = pd.read_csv('/content/drive/My Drive/Colab Notebooks/Bengali_Names/bengali_names_female.csv')\n",
        "female.describe()"
      ],
      "execution_count": 0,
      "outputs": [
        {
          "output_type": "execute_result",
          "data": {
            "text/html": [
              "<div>\n",
              "<style scoped>\n",
              "    .dataframe tbody tr th:only-of-type {\n",
              "        vertical-align: middle;\n",
              "    }\n",
              "\n",
              "    .dataframe tbody tr th {\n",
              "        vertical-align: top;\n",
              "    }\n",
              "\n",
              "    .dataframe thead th {\n",
              "        text-align: right;\n",
              "    }\n",
              "</style>\n",
              "<table border=\"1\" class=\"dataframe\">\n",
              "  <thead>\n",
              "    <tr style=\"text-align: right;\">\n",
              "      <th></th>\n",
              "      <th>Unnamed: 0</th>\n",
              "    </tr>\n",
              "  </thead>\n",
              "  <tbody>\n",
              "    <tr>\n",
              "      <th>count</th>\n",
              "      <td>6151.000000</td>\n",
              "    </tr>\n",
              "    <tr>\n",
              "      <th>mean</th>\n",
              "      <td>3075.000000</td>\n",
              "    </tr>\n",
              "    <tr>\n",
              "      <th>std</th>\n",
              "      <td>1775.785085</td>\n",
              "    </tr>\n",
              "    <tr>\n",
              "      <th>min</th>\n",
              "      <td>0.000000</td>\n",
              "    </tr>\n",
              "    <tr>\n",
              "      <th>25%</th>\n",
              "      <td>1537.500000</td>\n",
              "    </tr>\n",
              "    <tr>\n",
              "      <th>50%</th>\n",
              "      <td>3075.000000</td>\n",
              "    </tr>\n",
              "    <tr>\n",
              "      <th>75%</th>\n",
              "      <td>4612.500000</td>\n",
              "    </tr>\n",
              "    <tr>\n",
              "      <th>max</th>\n",
              "      <td>6150.000000</td>\n",
              "    </tr>\n",
              "  </tbody>\n",
              "</table>\n",
              "</div>"
            ],
            "text/plain": [
              "        Unnamed: 0\n",
              "count  6151.000000\n",
              "mean   3075.000000\n",
              "std    1775.785085\n",
              "min       0.000000\n",
              "25%    1537.500000\n",
              "50%    3075.000000\n",
              "75%    4612.500000\n",
              "max    6150.000000"
            ]
          },
          "metadata": {
            "tags": []
          },
          "execution_count": 9
        }
      ]
    },
    {
      "metadata": {
        "id": "dEA1rfgv_ybc",
        "colab_type": "code",
        "outputId": "5a8a8038-5833-4fdd-a5e8-e9dd68c82b9b",
        "colab": {
          "base_uri": "https://localhost:8080/",
          "height": 204
        }
      },
      "cell_type": "code",
      "source": [
        "female.head()"
      ],
      "execution_count": 0,
      "outputs": [
        {
          "output_type": "execute_result",
          "data": {
            "text/html": [
              "<div>\n",
              "<style scoped>\n",
              "    .dataframe tbody tr th:only-of-type {\n",
              "        vertical-align: middle;\n",
              "    }\n",
              "\n",
              "    .dataframe tbody tr th {\n",
              "        vertical-align: top;\n",
              "    }\n",
              "\n",
              "    .dataframe thead th {\n",
              "        text-align: right;\n",
              "    }\n",
              "</style>\n",
              "<table border=\"1\" class=\"dataframe\">\n",
              "  <thead>\n",
              "    <tr style=\"text-align: right;\">\n",
              "      <th></th>\n",
              "      <th>Unnamed: 0</th>\n",
              "      <th>female</th>\n",
              "    </tr>\n",
              "  </thead>\n",
              "  <tbody>\n",
              "    <tr>\n",
              "      <th>0</th>\n",
              "      <td>0</td>\n",
              "      <td>Dipawali</td>\n",
              "    </tr>\n",
              "    <tr>\n",
              "      <th>1</th>\n",
              "      <td>1</td>\n",
              "      <td>Nilaya</td>\n",
              "    </tr>\n",
              "    <tr>\n",
              "      <th>2</th>\n",
              "      <td>2</td>\n",
              "      <td>Shaboni</td>\n",
              "    </tr>\n",
              "    <tr>\n",
              "      <th>3</th>\n",
              "      <td>3</td>\n",
              "      <td>Savli</td>\n",
              "    </tr>\n",
              "    <tr>\n",
              "      <th>4</th>\n",
              "      <td>4</td>\n",
              "      <td>Sabida</td>\n",
              "    </tr>\n",
              "  </tbody>\n",
              "</table>\n",
              "</div>"
            ],
            "text/plain": [
              "   Unnamed: 0    female\n",
              "0           0  Dipawali\n",
              "1           1    Nilaya\n",
              "2           2   Shaboni\n",
              "3           3     Savli\n",
              "4           4    Sabida"
            ]
          },
          "metadata": {
            "tags": []
          },
          "execution_count": 12
        }
      ]
    },
    {
      "metadata": {
        "id": "QHoj_ALnMEDX",
        "colab_type": "code",
        "colab": {}
      },
      "cell_type": "code",
      "source": [
        "def gen_feature(word):\n",
        "    # defining the last alphabet of the word as gender feature \n",
        "    return {'last_letter': word[-1]}"
      ],
      "execution_count": 0,
      "outputs": []
    },
    {
      "metadata": {
        "id": "VHgV9I8VMT1G",
        "colab_type": "code",
        "colab": {}
      },
      "cell_type": "code",
      "source": [
        "def model():\n",
        "  \"\"\"\n",
        "  This will return a naivebayes classifer model with will \n",
        "  classify bengali name between male and female\n",
        "  \"\"\"\n",
        "  \n",
        "  # loading data \n",
        "  male_df = pd.read_csv('/content/drive/My Drive/Colab Notebooks/Bengali_Names/bengali_names_male.csv')\n",
        "  female_df = pd.read_csv('/content/drive/My Drive/Colab Notebooks/Bengali_Names/bengali_names_female.csv')\n",
        "\n",
        "  label_names = ([ (name, 'male') for name in male_df['male']] \n",
        "                + [(name, 'female') for name in female_df['female']])\n",
        "\n",
        "  # suffling labeled data\n",
        "  random.shuffle(label_names)\n",
        "\n",
        "  # extracting feature\n",
        "  feature_set = [ (gen_feature(n), gender) for (n, gender) in label_names]\n",
        "\n",
        "  # splliting train_test\n",
        "  train_set, test_set = feature_set[:5000], feature_set[5000:]\n",
        "\n",
        "  # choosing classifier\n",
        "  classifier = nltk.NaiveBayesClassifier.train(train_set)\n",
        "  \n",
        "  return classifier\n",
        "\n",
        "\n",
        "# testing model\n",
        "name_classifier = model()\n",
        "name_classifier.classify(gen_feature('salma'))"
      ],
      "execution_count": 0,
      "outputs": []
    },
    {
      "metadata": {
        "id": "8YomcVxL_YVs",
        "colab_type": "code",
        "outputId": "b9baa075-8069-4258-a535-164c625a1f15",
        "colab": {
          "base_uri": "https://localhost:8080/",
          "height": 204
        }
      },
      "cell_type": "code",
      "source": [
        "male.head()"
      ],
      "execution_count": 0,
      "outputs": [
        {
          "output_type": "execute_result",
          "data": {
            "text/html": [
              "<div>\n",
              "<style scoped>\n",
              "    .dataframe tbody tr th:only-of-type {\n",
              "        vertical-align: middle;\n",
              "    }\n",
              "\n",
              "    .dataframe tbody tr th {\n",
              "        vertical-align: top;\n",
              "    }\n",
              "\n",
              "    .dataframe thead th {\n",
              "        text-align: right;\n",
              "    }\n",
              "</style>\n",
              "<table border=\"1\" class=\"dataframe\">\n",
              "  <thead>\n",
              "    <tr style=\"text-align: right;\">\n",
              "      <th></th>\n",
              "      <th>Unnamed: 0</th>\n",
              "      <th>male</th>\n",
              "    </tr>\n",
              "  </thead>\n",
              "  <tbody>\n",
              "    <tr>\n",
              "      <th>0</th>\n",
              "      <td>0</td>\n",
              "      <td>Bhaskarjit</td>\n",
              "    </tr>\n",
              "    <tr>\n",
              "      <th>1</th>\n",
              "      <td>1</td>\n",
              "      <td>Rijurekh</td>\n",
              "    </tr>\n",
              "    <tr>\n",
              "      <th>2</th>\n",
              "      <td>2</td>\n",
              "      <td>Dillu</td>\n",
              "    </tr>\n",
              "    <tr>\n",
              "      <th>3</th>\n",
              "      <td>3</td>\n",
              "      <td>Ravindra</td>\n",
              "    </tr>\n",
              "    <tr>\n",
              "      <th>4</th>\n",
              "      <td>4</td>\n",
              "      <td>Bachchu</td>\n",
              "    </tr>\n",
              "  </tbody>\n",
              "</table>\n",
              "</div>"
            ],
            "text/plain": [
              "   Unnamed: 0        male\n",
              "0           0  Bhaskarjit\n",
              "1           1    Rijurekh\n",
              "2           2       Dillu\n",
              "3           3    Ravindra\n",
              "4           4     Bachchu"
            ]
          },
          "metadata": {
            "tags": []
          },
          "execution_count": 8
        }
      ]
    },
    {
      "metadata": {
        "id": "YkdFcjoG_1ks",
        "colab_type": "code",
        "colab": {}
      },
      "cell_type": "code",
      "source": [
        ""
      ],
      "execution_count": 0,
      "outputs": []
    }
  ]
}